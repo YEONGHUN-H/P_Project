{
  "nbformat": 4,
  "nbformat_minor": 0,
  "metadata": {
    "colab": {
      "provenance": []
    },
    "kernelspec": {
      "name": "python3",
      "display_name": "Python 3"
    },
    "language_info": {
      "name": "python"
    }
  },
  "cells": [
    {
      "cell_type": "code",
      "source": [
        "import pandas as pd\n",
        "#####데이터 가공하는 첫번째 과정 ######\n",
        "input_file = '/content/drive/MyDrive/Colab Notebooks/P프로젝트/bmi.csv'\n",
        "output_file = '/content/drive/MyDrive/Colab Notebooks/P프로젝트/gender.csv'\n",
        "df = pd.read_csv(input_file)\n",
        "\n",
        "# Gender 열 추가 (Height 기준으로 1.70m 밑은 Female, 이상은 Male)\n",
        "df['Gender'] = df['Height'].apply(lambda x: 'Female' if x < 1.70 else 'Male')\n",
        "\n",
        "print(df.head(5))\n",
        "\n",
        "df.to_csv(output_file, index=False)\n",
        "print(f\"가공 완료. 데이터가 '{output_file}'에 저장되었습니다.\")\n"
      ],
      "metadata": {
        "colab": {
          "base_uri": "https://localhost:8080/"
        },
        "id": "66zFCa3Olh0a",
        "outputId": "22893436-68f6-46ea-c2e0-9623179c7cc3"
      },
      "execution_count": 452,
      "outputs": [
        {
          "output_type": "stream",
          "name": "stdout",
          "text": [
            "   Age  Height  Weight        Bmi       BmiClass  Gender\n",
            "0   61    1.85  109.30  31.935720  Obese Class 1    Male\n",
            "1   60    1.71   79.02  27.023700     Overweight    Male\n",
            "2   60    1.55   74.70  31.092612  Obese Class 1  Female\n",
            "3   60    1.46   35.90  16.841809    Underweight  Female\n",
            "4   60    1.58   97.10  38.896010  Obese Class 2  Female\n",
            "가공 완료. 데이터가 '/content/drive/MyDrive/Colab Notebooks/P프로젝트/gender.csv'에 저장되었습니다.\n"
          ]
        }
      ]
    },
    {
      "cell_type": "markdown",
      "source": [
        "#1. 라이브러리 및 데이터 경로 설정"
      ],
      "metadata": {
        "id": "hmmPMvgrwx9N"
      }
    },
    {
      "cell_type": "code",
      "source": [
        "# 필요한 라이브러리 불러오기\n",
        "import pandas as pd\n",
        "from sklearn.model_selection import train_test_split\n",
        "from sklearn.neighbors import KNeighborsClassifier\n",
        "\n",
        "# 데이터 파일 경로\n",
        "bmi_data_path = '/content/drive/MyDrive/Colab Notebooks/P프로젝트/gender.csv'\n",
        "food_data_path = '/content/drive/MyDrive/Colab Notebooks/P프로젝트/final_food_data.csv'\n",
        "\n",
        "# 데이터 읽기\n",
        "bmi_data = pd.read_csv(bmi_data_path)\n",
        "food_data = pd.read_csv(food_data_path)\n",
        "\n",
        "# 데이터 확인\n",
        "print(\"BMI 데이터 예시:\")\n",
        "print(bmi_data.head())\n",
        "print(\"\\n식품 데이터 예시:\")\n",
        "print(food_data.head())\n"
      ],
      "metadata": {
        "colab": {
          "base_uri": "https://localhost:8080/"
        },
        "id": "um4uJzk5xCSl",
        "outputId": "e45b2a5c-e419-4a57-a38f-69b0f173376c"
      },
      "execution_count": 453,
      "outputs": [
        {
          "output_type": "stream",
          "name": "stdout",
          "text": [
            "BMI 데이터 예시:\n",
            "   Age  Height  Weight        Bmi       BmiClass  Gender\n",
            "0   61    1.85  109.30  31.935720  Obese Class 1    Male\n",
            "1   60    1.71   79.02  27.023700     Overweight    Male\n",
            "2   60    1.55   74.70  31.092612  Obese Class 1  Female\n",
            "3   60    1.46   35.90  16.841809    Underweight  Female\n",
            "4   60    1.58   97.10  38.896010  Obese Class 2  Female\n",
            "\n",
            "식품 데이터 예시:\n",
            "       식품명 식품대분류명  에너지(kcal)  탄수화물(g)  단백질(g)  지방(g)  당류(g)  식품중량\n",
            "0  국밥_돼지머리     밥류        137    15.94    6.70   5.16   0.16  900g\n",
            "1  국밥_순대국밥     밥류         75    10.38    3.17   2.28   0.17  900g\n",
            "2   국밥_콩나물     밥류         52    10.93    1.45   0.24   0.00  780g\n",
            "3      기장밥     밥류        166    36.77    3.44   0.57   0.00  200g\n",
            "4       김밥     밥류        140    19.98    4.84   4.55   0.00  230g\n"
          ]
        }
      ]
    },
    {
      "cell_type": "markdown",
      "source": [
        "# 2.BMI 데이터 전처리\n"
      ],
      "metadata": {
        "id": "X8tY0HR5xDoN"
      }
    },
    {
      "cell_type": "code",
      "source": [
        "# BMR 계산 함수 (Harris-Benedict 공식)\n",
        "def calculate_bmr(weight, height, age, gender):\n",
        "    if gender == 'Male':\n",
        "        return 88.362 + (13.397 * weight) + (4.799 * height) - (5.677 * age)\n",
        "    else:\n",
        "        return 447.593 + (9.247 * weight) + (3.098 * height) - (4.330 * age)\n",
        "\n",
        "# BMI 상태와 목표에 따른 칼로리 목표 설정 함수\n",
        "def get_calorie_target(bmi_class, bmr, goal):\n",
        "    if goal == '다이어트':\n",
        "        return bmr - 500 if bmi_class != '저체중' else bmr - 300\n",
        "    elif goal == '유지':\n",
        "        return bmr\n",
        "    elif goal == '벌크업':\n",
        "        return bmr + 500 if bmi_class != '비만' else bmr + 300\n",
        "\n",
        "# BMR 및 칼로리 목표 계산\n",
        "bmi_data['BMR'] = bmi_data.apply(lambda row: calculate_bmr(row['Weight'], row['Height'] * 100, row['Age'], row['Gender']), axis=1)\n",
        "bmi_data['Calorie_Target'] = bmi_data.apply(lambda row: get_calorie_target(row['BmiClass'], row['BMR'], '다이어트'), axis=1)\n",
        "\n",
        "print(\"BMR 및 칼로리 목표 추가된 BMI 데이터:\")\n",
        "print(bmi_data.head())\n"
      ],
      "metadata": {
        "colab": {
          "base_uri": "https://localhost:8080/"
        },
        "id": "g4CgIPtcxHJi",
        "outputId": "be124ba1-347f-4985-8812-f3d7fa38ae8f"
      },
      "execution_count": 454,
      "outputs": [
        {
          "output_type": "stream",
          "name": "stdout",
          "text": [
            "BMR 및 칼로리 목표 추가된 BMI 데이터:\n",
            "   Age  Height  Weight        Bmi       BmiClass  Gender         BMR  \\\n",
            "0   61    1.85  109.30  31.935720  Obese Class 1    Male  2094.17210   \n",
            "1   60    1.71   79.02  27.023700     Overweight    Male  1627.00194   \n",
            "2   60    1.55   74.70  31.092612  Obese Class 1  Female  1358.73390   \n",
            "3   60    1.46   35.90  16.841809    Underweight  Female   972.06830   \n",
            "4   60    1.58   97.10  38.896010  Obese Class 2  Female  1575.16070   \n",
            "\n",
            "   Calorie_Target  \n",
            "0      1594.17210  \n",
            "1      1127.00194  \n",
            "2       858.73390  \n",
            "3       472.06830  \n",
            "4      1075.16070  \n"
          ]
        }
      ]
    },
    {
      "cell_type": "markdown",
      "source": [
        "#2-1. 식품 데이터 전처리"
      ],
      "metadata": {
        "id": "nCfi5hRixIYw"
      }
    },
    {
      "cell_type": "code",
      "source": [
        "# 식품 데이터 전처리\n",
        "food_data['식품중량'] = food_data['식품중량'].str.replace('ml', 'g').str.replace('m', '').str.replace('g', '')\n",
        "food_data['식품중량'] = pd.to_numeric(food_data['식품중량'], errors='coerce')\n",
        "food_data = food_data.dropna(subset=['식품중량'])\n",
        "\n",
        "# 100g 기준으로 영양소 계산\n",
        "food_data['칼로리_100g'] = (food_data['에너지(kcal)'] / food_data['식품중량']) * 100\n",
        "food_data['탄수화물_100g'] = (food_data['탄수화물(g)'] / food_data['식품중량']) * 100\n",
        "food_data['단백질_100g'] = (food_data['단백질(g)'] / food_data['식품중량']) * 100\n",
        "food_data['지방_100g'] = (food_data['지방(g)'] / food_data['식품중량']) * 100\n",
        "\n",
        "# 이상치 제거 (칼로리 800 이상 제외)\n",
        "filtered_food_data = food_data[food_data['칼로리_100g'] < 800]\n",
        "\n",
        "# 음식 분류 추가: 밥류, 반찬류, 디저트류\n",
        "def classify_food(row):\n",
        "    if any(x in row['식품대분류명'] for x in [\"밥류\", \"면 및 만두류\"]):  # 밥류에 면 및 만두류 추가\n",
        "        return \"밥류\"\n",
        "    elif any(x in row['식품대분류명'] for x in [\"국 및 탕류\", \"찌개 및 전골류\"]):  # 국 기준\n",
        "        return \"국류\"\n",
        "    elif any(x in row['식품대분류명'] for x in [\"전·적 및 부침류\",\"조림류\", \"나물·숙채류\", \"튀김류\", \"구이류\", \"장류\", \"양념류\", \"찜류\", \"볶음류\",\"튀김류\",\"생채·무침류\",\"젓갈류\",\"김치류\",\"장아찌·절임류\"]):\n",
        "        return \"반찬류\"\n",
        "    elif any(x in row['식품대분류명'] for x in [\"빵 및 과자류\", \"음료 및 차류\", \"유제품류 및 빙과류\",\"샌드위치\",\"곡류, 서류 제품\"]):\n",
        "        return \"디저트류\"\n",
        "    elif any(x in row['식품대분류명'] for x in [\"브런치\",\"샌드위치\"]):  # 브런치\n",
        "        return \"브런치류\"\n",
        "    else:\n",
        "        return \"기타\"\n",
        "\n",
        "filtered_food_data['음식분류'] = filtered_food_data.apply(classify_food, axis=1)\n",
        "\n",
        "# 결과 확인\n",
        "print(\"음식 분류 결과:\")\n",
        "print(filtered_food_data['음식분류'].value_counts())\n",
        "\n"
      ],
      "metadata": {
        "colab": {
          "base_uri": "https://localhost:8080/"
        },
        "id": "_SaHr0nFxLol",
        "outputId": "1132d8af-9386-4cc8-f34b-258ab82aace9"
      },
      "execution_count": 455,
      "outputs": [
        {
          "output_type": "stream",
          "name": "stdout",
          "text": [
            "음식 분류 결과:\n",
            "음식분류\n",
            "디저트류    935\n",
            "반찬류     883\n",
            "브런치류    558\n",
            "밥류      328\n",
            "국류      325\n",
            "기타       41\n",
            "Name: count, dtype: int64\n"
          ]
        },
        {
          "output_type": "stream",
          "name": "stderr",
          "text": [
            "<ipython-input-455-22e689c51923>:30: SettingWithCopyWarning: \n",
            "A value is trying to be set on a copy of a slice from a DataFrame.\n",
            "Try using .loc[row_indexer,col_indexer] = value instead\n",
            "\n",
            "See the caveats in the documentation: https://pandas.pydata.org/pandas-docs/stable/user_guide/indexing.html#returning-a-view-versus-a-copy\n",
            "  filtered_food_data['음식분류'] = filtered_food_data.apply(classify_food, axis=1)\n"
          ]
        }
      ]
    },
    {
      "cell_type": "markdown",
      "source": [
        "#머신러닝 모델 학습"
      ],
      "metadata": {
        "id": "YFIorNVFxNCK"
      }
    },
    {
      "cell_type": "markdown",
      "source": [
        "#3. 데이터 준비"
      ],
      "metadata": {
        "id": "Wc-yFqqfxQHw"
      }
    },
    {
      "cell_type": "code",
      "source": [
        "# 학습 데이터 생성\n",
        "X = filtered_food_data[['칼로리_100g', '탄수화물_100g', '단백질_100g', '지방_100g']]\n",
        "y = filtered_food_data['식품명']\n",
        "\n",
        "# 데이터 분할\n",
        "X_train, X_test, y_train, y_test = train_test_split(X, y, test_size=0.2, random_state=42)\n"
      ],
      "metadata": {
        "id": "TtNPo_ZMxXfi"
      },
      "execution_count": 456,
      "outputs": []
    },
    {
      "cell_type": "markdown",
      "source": [
        "#3-1. 모델 학습\n"
      ],
      "metadata": {
        "id": "BDJbChuUxYT3"
      }
    },
    {
      "cell_type": "code",
      "source": [
        "# KNN 모델 생성 및 학습\n",
        "knn = KNeighborsClassifier(n_neighbors=5)\n",
        "knn.fit(X_train, y_train)\n",
        "print(\"모델 학습 완료!\")\n"
      ],
      "metadata": {
        "colab": {
          "base_uri": "https://localhost:8080/"
        },
        "id": "ObPMpa2pxakk",
        "outputId": "5d333aa7-1172-4e5c-c020-3f33990d4f5c"
      },
      "execution_count": 457,
      "outputs": [
        {
          "output_type": "stream",
          "name": "stdout",
          "text": [
            "모델 학습 완료!\n"
          ]
        }
      ]
    },
    {
      "cell_type": "markdown",
      "source": [
        "#추천 시스템 구축\n"
      ],
      "metadata": {
        "id": "zLdnD73PxcIo"
      }
    },
    {
      "cell_type": "markdown",
      "source": [
        "# 4.사용자 입력 및 칼로리 계산"
      ],
      "metadata": {
        "id": "QqM_bA86xgJF"
      }
    },
    {
      "cell_type": "code",
      "source": [
        "# BMI 상태 계산 함수\n",
        "def calculate_bmi(weight, height):\n",
        "    bmi = weight / ((height / 100) ** 2)  # 키를 cm에서 m로 변환하여 계산\n",
        "    if bmi < 18.5:\n",
        "        return '저체중', bmi\n",
        "    elif 18.5 <= bmi < 23:\n",
        "        return '정상체중', bmi\n",
        "    elif 23 <= bmi < 25:\n",
        "        return '과체중', bmi\n",
        "    else:\n",
        "        return '비만', bmi\n",
        "\n",
        "# BMR 계산 함수 (남성과 여성 구분)\n",
        "def calculate_bmr(weight, height, age, gender):\n",
        "    if gender == 'Male':  # 남성\n",
        "        bmr = 10 * weight + 6.25 * height - 5 * age + 5\n",
        "    elif gender == 'Female':  # 여성\n",
        "        bmr = 10 * weight + 6.25 * height - 5 * age - 161\n",
        "    else:\n",
        "        raise ValueError(\"성별은 'Male' 또는 'Female'로 입력해야 합니다.\")\n",
        "    return bmr\n",
        "\n",
        "# 사용자 입력 예시\n",
        "user_weight = 50  # kg\n",
        "user_height = 165  # cm\n",
        "user_age = 24  # 세.    기초대사량 계산을 위해 나이도 있어야함\n",
        "user_gender = 'Female'  # 성별\n",
        "user_goal = '다이어트'  # 목표: 다이어트, 유지, 벌크업\n",
        "\n",
        "# BMI 상태 자동 계산\n",
        "user_bmi_class, user_bmi = calculate_bmi(user_weight, user_height)\n",
        "\n",
        "# 사용자 BMR 및 칼로리 목표 계산\n",
        "user_bmr = calculate_bmr(user_weight, user_height, user_age, user_gender)\n",
        "user_calorie_target = get_calorie_target(user_bmi_class, user_bmr, user_goal)\n",
        "\n",
        "# 목표별 영양소 비율 설정\n",
        "if user_goal == '다이어트':\n",
        "    # 다이어트 기준: 탄수화물 50%, 단백질 30%, 지방 20%\n",
        "    carb_ratio, protein_ratio, fat_ratio = 0.5, 0.3, 0.2\n",
        "elif user_goal == '유지':\n",
        "    # 유지 기준: 탄수화물 50%, 단백질 25%, 지방 25%\n",
        "    carb_ratio, protein_ratio, fat_ratio = 0.5, 0.25, 0.25\n",
        "elif user_goal == '벌크업':\n",
        "    # 벌크업 기준: 탄수화물 55%, 단백질 30%, 지방 15%\n",
        "    carb_ratio, protein_ratio, fat_ratio = 0.55, 0.3, 0.15\n",
        "\n",
        "# 영양소 목표 계산\n",
        "user_carb_target = (user_calorie_target * carb_ratio) / 4   # 탄수화물: 1g = 4kcal\n",
        "user_protein_target = (user_calorie_target * protein_ratio) / 4  # 단백질: 1g = 4kcal\n",
        "user_fat_target = (user_calorie_target * fat_ratio) / 9    # 지방: 1g = 9kcal\n",
        "\n",
        "# 출력\n",
        "print(f\"사용자 BMI: {user_bmi:.2f}\")\n",
        "print(f\"BMI 상태: {user_bmi_class}\")\n",
        "print(f\"목표: {user_goal}\")\n",
        "print(f\"칼로리 목표: {user_calorie_target:.2f} kcal\")\n",
        "print(f\"탄수화물 목표: {user_carb_target:.2f} g\")\n",
        "print(f\"단백질 목표: {user_protein_target:.2f} g\")\n",
        "print(f\"지방 목표: {user_fat_target:.2f} g\")\n"
      ],
      "metadata": {
        "colab": {
          "base_uri": "https://localhost:8080/"
        },
        "id": "yGrKFt7dxj-C",
        "outputId": "f0e51f9d-8e44-4557-8a53-4ae1a0c86bed"
      },
      "execution_count": 458,
      "outputs": [
        {
          "output_type": "stream",
          "name": "stdout",
          "text": [
            "사용자 BMI: 18.37\n",
            "BMI 상태: 저체중\n",
            "목표: 다이어트\n",
            "칼로리 목표: 950.25 kcal\n",
            "탄수화물 목표: 118.78 g\n",
            "단백질 목표: 71.27 g\n",
            "지방 목표: 21.12 g\n"
          ]
        }
      ]
    },
    {
      "cell_type": "markdown",
      "source": [
        "#4-1. 메뉴 추천 함수"
      ],
      "metadata": {
        "id": "evki_LFkxl0a"
      }
    },
    {
      "cell_type": "code",
      "source": [
        "import random\n",
        "\n",
        "# 끼니별 비율 설정\n",
        "meal_ratios = {\n",
        "    \"breakfast\": 0.3,  # 아침 30%\n",
        "    \"lunch\": 0.4,      # 점심 40%\n",
        "    \"dinner\": 0.3      # 저녁 30%\n",
        "}\n",
        "\n",
        "# 간식 추천 비율 설정 (목표에 따라 간식 추천 비중 변화)\n",
        "snack_ratios = {\n",
        "    \"다이어트\": {\"morning_snack\": 0.05, \"afternoon_snack\": 0.05, \"evening_snack\": 0.0},\n",
        "    \"유지\": {\"morning_snack\": 0.1, \"afternoon_snack\": 0.1, \"evening_snack\": 0.05},\n",
        "    \"벌크업\": {\"morning_snack\": 0.1, \"afternoon_snack\": 0.1, \"evening_snack\": 0.1},\n",
        "}\n",
        "\n",
        "# 사용자 목표별 영양소 비율\n",
        "goal_ratios = {\n",
        "    \"다이어트\": {\"carb_ratio\": 0.5, \"protein_ratio\": 0.3, \"fat_ratio\": 0.2},\n",
        "    \"유지\": {\"carb_ratio\": 0.55, \"protein_ratio\": 0.25, \"fat_ratio\": 0.2},\n",
        "    \"벌크업\": {\"carb_ratio\": 0.6, \"protein_ratio\": 0.3, \"fat_ratio\": 0.1},\n",
        "}\n",
        "\n",
        "# 간식 추천 여부 결정\n",
        "def should_recommend_snack(goal, snack_type, calorie_target, used_calories):\n",
        "    \"\"\"\n",
        "    간식 추천 여부를 결정.\n",
        "    \"\"\"\n",
        "    snack_ratio = snack_ratios[goal][snack_type]\n",
        "    if snack_ratio == 0.0:  # 간식을 추천하지 않음\n",
        "        return False\n",
        "    snack_calorie_limit = calorie_target * snack_ratio\n",
        "    return used_calories + snack_calorie_limit <= calorie_target\n",
        "\n",
        "# 식사 추천 함수: (밥류 + 국류 + 반찬류) 또는 브런치류\n",
        "def recommend_meal_with_alternate_structure(calorie_target, food_data, used_foods, carb_ratio, protein_ratio, fat_ratio, last_meal_type=None):\n",
        "    \"\"\"\n",
        "    식사 추천: (밥류 + 국류 + 반찬류)와 브런치류를 번갈아 추천.\n",
        "    \"\"\"\n",
        "    # 영양소 목표 계산\n",
        "    carb_target = calorie_target * carb_ratio / 4  # 탄수화물 g\n",
        "    protein_target = calorie_target * protein_ratio / 4  # 단백질 g\n",
        "    fat_target = calorie_target * fat_ratio / 9  # 지방 g\n",
        "\n",
        "    # 초기화\n",
        "    recommendations = []\n",
        "    total_calories = 0\n",
        "    total_carb = 0\n",
        "    total_protein = 0\n",
        "    total_fat = 0\n",
        "    total_weight = 0  # 전체 섭취량\n",
        "\n",
        "    # 항목별 최대 섭취량 설정\n",
        "    portion_limits = {\n",
        "        \"밥류\": 300,  # 최대 300g\n",
        "        \"국류\": 550,  # 최대 250g\n",
        "        \"반찬류\": 200,  # 최대 200g\n",
        "        \"브런치류\": 4500,  # 최대 400g\n",
        "    }\n",
        "\n",
        "    # 추천 타입 결정: 번갈아 추천\n",
        "    if last_meal_type == \"브런치류\" or last_meal_type is None:\n",
        "        meal_type = \"밥류+국류+반찬류\"\n",
        "    else:\n",
        "        meal_type = \"브런치류\"\n",
        "\n",
        "    if meal_type == \"브런치류\":\n",
        "        # 브런치류 단일 추천\n",
        "        brunch_data = food_data[(food_data['음식분류'] == '브런치류') & (~food_data['식품명'].isin(used_foods))]\n",
        "        if not brunch_data.empty:\n",
        "            brunch = brunch_data.sample(1).iloc[0]\n",
        "            brunch_portion = min(\n",
        "                calorie_target / brunch['칼로리_100g'] * 100,\n",
        "                portion_limits[\"브런치류\"]\n",
        "            )\n",
        "            used_foods.append(brunch['식품명'])\n",
        "            return [f\"{brunch['식품명']} {brunch_portion:.1f}g\"], \"브런치류\"\n",
        "        else:\n",
        "            meal_type = \"밥류+국류+반찬류\"  # 브런치류가 없으면 다른 타입으로 대체\n",
        "\n",
        "    if meal_type == \"밥류+국류+반찬류\":\n",
        "        # (밥류 + 국류 + 반찬류) 추천\n",
        "        for category in [\"밥류\", \"국류\", \"반찬류\"]:\n",
        "            filtered_data = food_data[\n",
        "                (food_data['음식분류'] == category) & (~food_data['식품명'].isin(used_foods))\n",
        "            ]\n",
        "\n",
        "            if filtered_data.empty:\n",
        "                recommendations.append(f\"추천 가능한 {category} 없음\")\n",
        "                continue\n",
        "\n",
        "            food = filtered_data.sample(1).iloc[0]\n",
        "            max_portion = portion_limits[category]\n",
        "            portion = min(\n",
        "                calorie_target / food['칼로리_100g'] * 100,\n",
        "                max_portion\n",
        "            )\n",
        "\n",
        "            total_calories += food['칼로리_100g'] * (portion / 100)\n",
        "            total_carb += food['탄수화물_100g'] * (portion / 100)\n",
        "            total_protein += food['단백질_100g'] * (portion / 100)\n",
        "            total_fat += food['지방_100g'] * (portion / 100)\n",
        "            total_weight += portion\n",
        "\n",
        "            recommendations.append(f\"{food['식품명']} {portion:.1f}g\")\n",
        "            used_foods.append(food['식품명'])\n",
        "\n",
        "            # 목표 충족 여부 확인\n",
        "            if (\n",
        "                total_calories >= calorie_target * 0.9 and total_calories <= calorie_target * 1.1 and\n",
        "                total_carb >= carb_target * 0.9 and\n",
        "                total_protein >= protein_target * 0.9 and\n",
        "                total_fat >= fat_target * 0.9\n",
        "            ):\n",
        "                break  # 목표 충족 시 종료\n",
        "\n",
        "    return recommendations, \"밥류+국류+반찬류\"\n",
        "\n",
        "\n",
        "# 간식 추천 함수 (3가지 선택지 제공, 섭취량이 비정상적으로 큰 경우 \"마음껏\" 출력)\n",
        "def recommend_snack_choices(calorie_target, food_data, used_foods, num_choices=3, max_portion=1000):\n",
        "    \"\"\"\n",
        "    간식 추천: 디저트류에서 num_choices 개를 랜덤으로 추천하며, 섭취량 계산.\n",
        "    섭취량이 max_portion을 초과하면 '마음껏'으로 출력.\n",
        "    \"\"\"\n",
        "    snack_data = food_data[food_data['음식분류'] == '디저트류']\n",
        "    valid_snacks = snack_data[~snack_data['식품명'].isin(used_foods)]\n",
        "\n",
        "    if valid_snacks.empty:\n",
        "        return \"추천 가능한 간식 없음\"\n",
        "\n",
        "    # 랜덤으로 num_choices 개 선택\n",
        "    snack_choices = valid_snacks.sample(min(num_choices, len(valid_snacks)))\n",
        "    recommendations = []\n",
        "    for _, snack in snack_choices.iterrows():\n",
        "        portion = calorie_target / snack['칼로리_100g'] * 100  # 섭취량(g) 계산\n",
        "        used_foods.append(snack['식품명'])\n",
        "\n",
        "        # 섭취량이 max_portion 초과 시 '마음껏' 출력\n",
        "        if portion > max_portion:\n",
        "            recommendations.append(f\"{snack['식품명']} 마음껏\")\n",
        "        else:\n",
        "            recommendations.append(f\"{snack['식품명']} {portion:.1f}g\")\n",
        "\n",
        "    return \" or \".join(recommendations)\n",
        "\n",
        "\n",
        "# 추천된 음식 목록 및 사용된 칼로리 기록\n",
        "used_foods = []\n",
        "used_calories = 0\n",
        "\n",
        "# 목표별 영양소 비율 설정\n",
        "carb_ratio = goal_ratios[user_goal][\"carb_ratio\"]\n",
        "protein_ratio = goal_ratios[user_goal][\"protein_ratio\"]\n",
        "fat_ratio = goal_ratios[user_goal][\"fat_ratio\"]\n",
        "\n",
        "# 이전 끼니 타입 저장\n",
        "last_meal_type = None\n",
        "\n",
        "# 아침 식사 추천\n",
        "breakfast, last_meal_type = recommend_meal_with_alternate_structure(user_calorie_target * meal_ratios[\"breakfast\"],\n",
        "                                                                    filtered_food_data, used_foods,\n",
        "                                                                    carb_ratio, protein_ratio, fat_ratio,\n",
        "                                                                    last_meal_type)\n",
        "used_calories += user_calorie_target * meal_ratios[\"breakfast\"]\n",
        "\n",
        "# 아침-점심 간 간식 추천\n",
        "morning_snack = None\n",
        "if should_recommend_snack(user_goal, \"morning_snack\", user_calorie_target, used_calories):\n",
        "    morning_snack = recommend_snack_choices(user_calorie_target * snack_ratios[user_goal][\"morning_snack\"],\n",
        "                                            filtered_food_data, used_foods)\n",
        "    used_calories += user_calorie_target * snack_ratios[user_goal][\"morning_snack\"]\n",
        "\n",
        "# 점심 식사 추천\n",
        "lunch, last_meal_type = recommend_meal_with_alternate_structure(user_calorie_target * meal_ratios[\"lunch\"],\n",
        "                                                                filtered_food_data, used_foods,\n",
        "                                                                carb_ratio, protein_ratio, fat_ratio,\n",
        "                                                                last_meal_type)\n",
        "used_calories += user_calorie_target * meal_ratios[\"lunch\"]\n",
        "\n",
        "\n",
        "# 점심-저녁 간 간식 추천\n",
        "afternoon_snack = None\n",
        "if should_recommend_snack(user_goal, \"afternoon_snack\", user_calorie_target, used_calories):\n",
        "    afternoon_snack = recommend_snack_choices(user_calorie_target * snack_ratios[user_goal][\"afternoon_snack\"],\n",
        "                                              filtered_food_data, used_foods)\n",
        "    used_calories += user_calorie_target * snack_ratios[user_goal][\"afternoon_snack\"]\n",
        "\n",
        "# 저녁 식사 추천\n",
        "dinner, last_meal_type = recommend_meal_with_alternate_structure(user_calorie_target * meal_ratios[\"dinner\"],\n",
        "                                                                 filtered_food_data, used_foods,\n",
        "                                                                 carb_ratio, protein_ratio, fat_ratio,\n",
        "                                                                 last_meal_type)\n",
        "used_calories += user_calorie_target * meal_ratios[\"dinner\"]\n",
        "\n",
        "# 저녁 이후 간식 추천\n",
        "evening_snack = None\n",
        "if should_recommend_snack(user_goal, \"evening_snack\", user_calorie_target, used_calories):\n",
        "    evening_snack = recommend_snack_choices(user_calorie_target * snack_ratios[user_goal][\"evening_snack\"],\n",
        "                                            filtered_food_data, used_foods)\n",
        "    used_calories += user_calorie_target * snack_ratios[user_goal][\"evening_snack\"]\n",
        "\n",
        "# 결과 출력\n",
        "print(\"추천 식단:\")\n",
        "print(f\"아침: {breakfast}\\n\")\n",
        "if morning_snack:\n",
        "    print(f\"간식 (아침-점심 사이): {morning_snack}\\n\")\n",
        "print(f\"점심: {lunch}\\n\")\n",
        "if afternoon_snack:\n",
        "    print(f\"간식 (점심-저녁 사이): {afternoon_snack}\\n\")\n",
        "print(f\"저녁: {dinner}\\n\")\n",
        "if evening_snack:\n",
        "    print(f\"간식 (저녁 이후): {evening_snack}\\n\")\n"
      ],
      "metadata": {
        "colab": {
          "base_uri": "https://localhost:8080/"
        },
        "id": "uqcp2hvjxovc",
        "outputId": "d19354f3-ea97-468b-e292-7043fa32351f"
      },
      "execution_count": 459,
      "outputs": [
        {
          "output_type": "stream",
          "name": "stdout",
          "text": [
            "추천 식단:\n",
            "아침: ['짬뽕_간편조리세트_통오징어짬뽕탕 300.0g', '김치찌개_참치 550.0g', '감자볶음_감자 200.0g']\n",
            "\n",
            "간식 (아침-점심 사이): 커피_디카페인 헤이즐넛아메리카노 핫(HOT) 879.9g or 샌드위치_채소 35.1g or 커피_디카페인 허니아메리카노 아이스(ICED) 마음껏\n",
            "\n",
            "점심: ['피자_뉴욕 오리진 피자 오리지널 (M) 1008.0g']\n",
            "\n",
            "간식 (점심-저녁 사이): 도넛_찹쌀 11.2g or 페이스트리_프렌치뀐아망 6.7g or 파이/만주_달콤한딸기롤파이 (3개입) 12.1g\n",
            "\n",
            "저녁: ['회덮밥_모듬 300.0g', '마라탕_간편조리세트_마라탕 550.0g', '돼지갈비구이_간장 200.0g']\n",
            "\n"
          ]
        }
      ]
    }
  ]
}